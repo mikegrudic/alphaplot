{
 "cells": [
  {
   "cell_type": "code",
   "execution_count": 65,
   "metadata": {},
   "outputs": [
    {
     "name": "stdout",
     "output_type": "stream",
     "text": [
      "Using matplotlib backend: TkAgg\n",
      "%pylab is deprecated, use %matplotlib inline and import the required libraries.\n",
      "Populating the interactive namespace from numpy and matplotlib\n",
      "Slope: -2.3232069351901634+/-0.12694484408764484 over m=1-45.70000076293945\n"
     ]
    }
   ],
   "source": [
    "%pylab\n",
    "from astropy.table import Table\n",
    "from simple_powerlaw_fit import *\n",
    "\n",
    "def simple_powerlaw_fit(data, xmin=None, xmax=None, Ngrid=1024,alpha_min=-4,alpha_max=4,quantiles=[.16,.5,.84]):\n",
    "    \"\"\"Computes the specified quantiles of the posterior distribution of the power law slope alpha, given a dataset and desired quantiles\n",
    "    \n",
    "    Example usage to get intervals on the power-law slope of the IMF over the interval [1,10]:\n",
    "    `\n",
    "    masses = np.loadtxt(\"my_IMF_data.dat\")\n",
    "    quantiles = simple_powerlaw_fit(masses, mmin=1, mmax=10)\n",
    "    `\n",
    "    \"\"\"\n",
    "    if xmin is None: xmin = data.min()\n",
    "    if xmax is None: xmax = data.max()\n",
    "    data = data[(data>xmin)*(data<xmax)] # prune data to specified limits\n",
    "\n",
    "    alpha_grid = np.linspace(alpha_min,alpha_max,Ngrid) # initialize the 1D grid in parameter space\n",
    "    lnprob = np.zeros_like(alpha_grid) # grid that stores the values of the posterior distribution\n",
    "\n",
    "    normgrid =  (1 + alpha_grid) / (xmax**(1+alpha_grid)-xmin**(1+alpha_grid))  # grid of normalization of the distribution x^alpha over the limits [mmin,mmax]\n",
    "\n",
    "    for d in data: # sum the posterior log-likelihood distribution\n",
    "        lnprob += np.log(d**alpha_grid * normgrid)\n",
    "\n",
    "    # convert log likelihood to likelihood\n",
    "    lnprob -= lnprob.max()\n",
    "    prob = np.exp(lnprob) # watch for overflow errors here\n",
    "    prob /= np.trapz(prob,alpha_grid) # normalize\n",
    "\n",
    "    q = np.interp(quantiles,np.cumsum(prob)/prob.sum(), alpha_grid)\n",
    "    return q # returns quantiles of the posterior distribution\n",
    "\n",
    "\n",
    "data = Table.read(\"hillenbrand1997_stars.vot\")\n",
    "m = np.array(data[\"M\"])\n",
    "m = m[np.isfinite(m)]\n",
    "fit = simple_powerlaw_fit(m[(m>1)])\n",
    "slope = fit[1]\n",
    "error = 0.5*(fit[2]-fit[0])\n",
    "print(f\"Slope: {slope}+/-{error} over m=1-{m.max()}\")"
   ]
  },
  {
   "cell_type": "code",
   "execution_count": 62,
   "metadata": {},
   "outputs": [
    {
     "data": {
      "text/plain": [
       "<matplotlib.collections.PathCollection at 0x7f2c7ed69c70>"
      ]
     },
     "execution_count": 62,
     "metadata": {},
     "output_type": "execute_result"
    }
   ],
   "source": [
    "plt.scatter(np.log10(m),np.log10(age))"
   ]
  },
  {
   "cell_type": "code",
   "execution_count": 25,
   "metadata": {},
   "outputs": [
    {
     "data": {
      "text/plain": [
       "masked"
      ]
     },
     "execution_count": 25,
     "metadata": {},
     "output_type": "execute_result"
    }
   ],
   "source": [
    "np.log10(m)[0]"
   ]
  },
  {
   "cell_type": "code",
   "execution_count": null,
   "metadata": {},
   "outputs": [],
   "source": []
  }
 ],
 "metadata": {
  "kernelspec": {
   "display_name": "base",
   "language": "python",
   "name": "python3"
  },
  "language_info": {
   "codemirror_mode": {
    "name": "ipython",
    "version": 3
   },
   "file_extension": ".py",
   "mimetype": "text/x-python",
   "name": "python",
   "nbconvert_exporter": "python",
   "pygments_lexer": "ipython3",
   "version": "3.9.16"
  },
  "orig_nbformat": 4
 },
 "nbformat": 4,
 "nbformat_minor": 2
}
