{
 "cells": [
  {
   "cell_type": "code",
   "execution_count": 57,
   "metadata": {},
   "outputs": [
    {
     "name": "stdout",
     "output_type": "stream",
     "text": [
      "Using matplotlib backend: TkAgg\n",
      "Populating the interactive namespace from numpy and matplotlib\n"
     ]
    },
    {
     "name": "stderr",
     "output_type": "stream",
     "text": [
      "/tmp/ipykernel_37818/2086644053.py:8: DeprecationWarning: `np.bool` is a deprecated alias for the builtin `bool`. To silence this warning, use `bool` by itself. Doing this will not modify any behavior and is safe. If you specifically wanted the numpy scalar type, use `np.bool_` here.\n",
      "Deprecated in NumPy 1.20; for more details and guidance: https://numpy.org/devdocs/release/1.20.0-notes.html#deprecations\n",
      "  cut = np.ones(len(data),dtype=np.bool) #(system==\"ONC\")#*(year <= 2003)\n",
      "/data1/obsld11/mgrudic/anaconda3/lib/python3.9/site-packages/numpy/core/_methods.py:44: RuntimeWarning: invalid value encountered in reduce\n",
      "  return umr_minimum(a, axis, None, out, keepdims, initial, where)\n",
      "/data1/obsld11/mgrudic/anaconda3/lib/python3.9/site-packages/numpy/core/_methods.py:40: RuntimeWarning: invalid value encountered in reduce\n",
      "  return umr_maximum(a, axis, None, out, keepdims, initial, where)\n"
     ]
    },
    {
     "data": {
      "text/plain": [
       "[None,\n",
       " Text(0.5, 0, '$M_{\\\\rm ZAMS}$ ($M_\\\\odot$)'),\n",
       " Text(0, 0.5, 'IMF Slope ($\\\\mathrm{d} \\\\log N/\\\\mathrm{d} \\\\log M_{\\\\rm ZAMS}$)'),\n",
       " (0.003, 300)]"
      ]
     },
     "execution_count": 57,
     "metadata": {},
     "output_type": "execute_result"
    }
   ],
   "source": [
    "%pylab\n",
    "from pandas import read_csv\n",
    "data = read_csv(\"alphaplot.csv\")\n",
    "\n",
    "references = data[\"Reference\"]\n",
    "#year = np.array([int(r[:4]) if type(r)==str else -1 for r in references])\n",
    "system = data[\"System\"]\n",
    "cut = np.ones(len(data),dtype=np.bool) #(system==\"ONC\")#*(year <= 2003)\n",
    "data = data[cut]\n",
    "\n",
    "year = np.array([int(r[:4]) if type(r)==str else -1 for r in references])\n",
    "slope = -data[\"Slope\"]+1\n",
    "mlow = data[\"Lower mass (Msun)\"]\n",
    "mhi = data[\"Upper mass (Msun)\"]\n",
    "mmed = (mlow*mhi)**0.5\n",
    "slope_error = data[\"Slope uncertainty\"]\n",
    "slope_upper = -data[\"Upper limit (1 sigma)\"]+1\n",
    "slope_lower = -data[\"Lower limit (1 sigma)\"]+1\n",
    "\n",
    "#cut = system\n",
    "fig, ax = plt.subplots(1,1,figsize=(4,4))\n",
    "\n",
    "colors = plt.get_cmap('viridis')((year-2002).clip(0,1e100)/(year-2002).max())\n",
    "\n",
    "# first plot asymmetric errors where available\n",
    "i = np.isfinite(slope_lower) * np.isfinite(slope_upper)\n",
    "ax.errorbar(mmed[i],slope[i],xerr=[mmed[i]-mlow[i],mhi[i]-mmed[i]], yerr=[(slope-slope_lower)[i],(slope_upper-slope)[i]], ls='',capsize=0,lw=0.5,c='black',marker='o',markersize=1)\n",
    "ax.scatter(mmed[i],slope[i],c=colors[i],s=1,zorder=10) #xerr=[mmed[i]-mlow[i],mhi[i]-mmed[i]], yerr=[(slope-slope_lower)[i],(slope_upper-slope)[i]], ls='',capsize=0,lw=0.5,c='black',marker='o',markersize=1)\n",
    "\n",
    "# now symmetric errors\n",
    "i = np.isfinite(slope_error)# * np.isfinite(slope_upper)\n",
    "ax.errorbar(mmed[i],slope[i],xerr=[mmed[i]-mlow[i],mhi[i]-mmed[i]], yerr=slope_error[i], ls='',capsize=0,lw=0.5,c='black',marker='o',markersize=1)\n",
    "ax.scatter(mmed[i],slope[i],c=colors[i],s=1,zorder=10)\n",
    "# and now ones without any errorbars :(\n",
    "# i = np.isnan(slope_error)\n",
    "# print(mhi[i])\n",
    "# ax.errorbar(mmed[i],slope[i],xerr=[mmed[i]-mlow[i],mhi[i]-mmed[i]], ls='',capsize=0,lw=0.5,color='black',marker='o',markersize=1)\n",
    "\n",
    "ax.plot([0.003,300],[0,0],ls='dashed',color='grey',zorder=-1000)\n",
    "# now the lower bounds\n",
    "ax.set(xscale='log',xlabel=r\"$M_{\\rm ZAMS}$ ($M_\\odot$)\", ylabel=r\"IMF Slope ($\\mathrm{d} \\log N/\\mathrm{d} \\log M_{\\rm ZAMS}$)\",xlim=[0.003,300])"
   ]
  },
  {
   "cell_type": "code",
   "execution_count": 46,
   "metadata": {},
   "outputs": [
    {
     "data": {
      "text/plain": [
       "(array([[0.626579, 0.854645, 0.223353, 1.      ],\n",
       "        [0.626579, 0.854645, 0.223353, 1.      ],\n",
       "        [0.626579, 0.854645, 0.223353, 1.      ],\n",
       "        [0.626579, 0.854645, 0.223353, 1.      ],\n",
       "        [0.626579, 0.854645, 0.223353, 1.      ],\n",
       "        [0.395174, 0.797475, 0.367757, 1.      ]]),\n",
       " 18      0.71\n",
       " 19      1.40\n",
       " 22      1.40\n",
       " 24      0.67\n",
       " 25      1.40\n",
       " 53    203.00\n",
       " Name: Upper mass (Msun), dtype: float64)"
      ]
     },
     "execution_count": 46,
     "metadata": {},
     "output_type": "execute_result"
    }
   ],
   "source": [
    "colors[i], mhi[i]"
   ]
  },
  {
   "cell_type": "code",
   "execution_count": null,
   "metadata": {},
   "outputs": [],
   "source": []
  }
 ],
 "metadata": {
  "interpreter": {
   "hash": "0224a370cf43668979feb4aeca053395e56c41910dc956a688e83b154996b2c5"
  },
  "kernelspec": {
   "display_name": "Python 3.9.13 ('base')",
   "language": "python",
   "name": "python3"
  },
  "language_info": {
   "codemirror_mode": {
    "name": "ipython",
    "version": 3
   },
   "file_extension": ".py",
   "mimetype": "text/x-python",
   "name": "python",
   "nbconvert_exporter": "python",
   "pygments_lexer": "ipython3",
   "version": "3.9.13"
  },
  "orig_nbformat": 4
 },
 "nbformat": 4,
 "nbformat_minor": 2
}
